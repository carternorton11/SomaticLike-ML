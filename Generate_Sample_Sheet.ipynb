{
 "cells": [
  {
   "cell_type": "code",
   "execution_count": 25,
   "metadata": {},
   "outputs": [],
   "source": [
    "import pandas as pd\n",
    "import numpy as np"
   ]
  },
  {
   "cell_type": "code",
   "execution_count": 26,
   "metadata": {},
   "outputs": [],
   "source": [
    "data = pd.read_csv('/Users/carternorton/Desktop/IDAT_names.csv', index_col=0, header=None)"
   ]
  },
  {
   "cell_type": "code",
   "execution_count": null,
   "metadata": {},
   "outputs": [],
   "source": [
    "data"
   ]
  },
  {
   "cell_type": "code",
   "execution_count": 28,
   "metadata": {},
   "outputs": [],
   "source": [
    "#Parse out information from title\n",
    "data[\"Full_Name\"] = data.index\n",
    "data[\"Sample_Name\"] = data[\"Full_Name\"].apply(lambda x: x.split(\"_\")[0])\n",
    "data[\"Sentrix_ID\"] = data[\"Full_Name\"].apply(lambda x: x.split(\"_\")[1])\n",
    "data[\"Sentrix_Position\"] = data[\"Full_Name\"].apply(lambda x: x.split(\"_\")[2])"
   ]
  },
  {
   "cell_type": "code",
   "execution_count": null,
   "metadata": {},
   "outputs": [],
   "source": [
    "#Rearrange columns\n",
    "data = data[[\"Sample_Name\", \"Sentrix_ID\", \"Sentrix_Position\", \"Full_Name\"]]\n",
    "\n",
    "#Remove columns with duplicate sample names\n",
    "data = data.drop_duplicates(subset=\"Sample_Name\", keep=\"first\")\n",
    "\n",
    "#Remove index\n",
    "data.index=range(len(data))\n",
    "\n",
    "data"
   ]
  },
  {
   "cell_type": "code",
   "execution_count": null,
   "metadata": {},
   "outputs": [],
   "source": [
    "#Let's merge with the OG sample sheet\n",
    "sample_sheet = pd.read_csv('/Volumes/DATA/Datasets/Whole_Blood/GSE128235/original_processed_data/GSE128235_series_matrix (1).txt', sep=\"\\t\", index_col=0)\n",
    "sample_sheet = sample_sheet.T\n",
    "\n",
    "#Remove '!' from the beginning of column names\n",
    "sample_sheet.columns = sample_sheet.columns.str.replace('!', '')\n",
    "sample_sheet[\"sample_record_title\"] = sample_sheet.index\n",
    "sample_sheet.index = sample_sheet[\"Sample_geo_accession\"]\n",
    "\n",
    "#remove index title\n",
    "sample_sheet.rename_axis(index=None, columns=None, inplace=True)\n",
    "\n",
    "#Merge data and sample sheet\n",
    "merged = pd.merge(data, sample_sheet, left_on=\"Sample_Name\", right_on=\"Sample_geo_accession\", how=\"left\")\n",
    "merged"
   ]
  },
  {
   "cell_type": "code",
   "execution_count": 51,
   "metadata": {},
   "outputs": [],
   "source": [
    "#Save as csv\n",
    "merged.to_csv(\"/Users/carternorton/Desktop/GSE128235_Sample_Sheet.csv\", index=False)"
   ]
  }
 ],
 "metadata": {
  "kernelspec": {
   "display_name": "inherentbio",
   "language": "python",
   "name": "python3"
  },
  "language_info": {
   "codemirror_mode": {
    "name": "ipython",
    "version": 3
   },
   "file_extension": ".py",
   "mimetype": "text/x-python",
   "name": "python",
   "nbconvert_exporter": "python",
   "pygments_lexer": "ipython3",
   "version": "3.9.12"
  },
  "orig_nbformat": 4,
  "vscode": {
   "interpreter": {
    "hash": "549659e3d734a9b3b98e64b9696f21d45e678e79b3814ce3e3c9ab4ad146039a"
   }
  }
 },
 "nbformat": 4,
 "nbformat_minor": 2
}
